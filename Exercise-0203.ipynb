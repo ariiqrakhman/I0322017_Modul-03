{
 "cells": [
  {
   "cell_type": "code",
   "execution_count": null,
   "metadata": {},
   "outputs": [],
   "source": [
    "print(input(\"Nama: Ariiq Rakhman Setiana\"))\n",
    "print(input(\"NIM: I0322017\"))\n",
    "print(input(\"Kelas: A\"))"
   ]
  },
  {
   "attachments": {},
   "cell_type": "markdown",
   "metadata": {},
   "source": [
    "1."
   ]
  },
  {
   "cell_type": "code",
   "execution_count": 12,
   "metadata": {},
   "outputs": [
    {
     "name": "stdout",
     "output_type": "stream",
     "text": [
      "Silakan masukkan tanggal, bulan, dan tahun lahir anda\n",
      "Umur anda pada tanggal 1 Januari 2023 adalah 20 tahun.\n"
     ]
    }
   ],
   "source": [
    "from datetime import date, datetime\n",
    "\n",
    "#Program meminta pengguna memasukan tanggal, bulan, dan tahun lahir\n",
    "print (\"Silakan masukkan tanggal, bulan, dan tahun lahir anda\")\n",
    "tanggal_lahir = int(input(\"Masukkan tanggal lahir anda (format: HH): \"))\n",
    "bulan_lahir = int(input(\"Masukkan bulan lahir anda (format: BB): \"))\n",
    "tahun_lahir = int(input(\"Masukkan tahun lahir anda (format: TTTT): \"))\n",
    "\n",
    "#Program menghitung umur pengguna hingga tanggal 1 januari 2023\n",
    "tanggal_tujuan = date(2023, 1, 1)\n",
    "tanggal_lahir = datetime(year=tahun_lahir, month=bulan_lahir, day=tanggal_lahir)\n",
    "umur = tanggal_tujuan.year - tanggal_lahir.year - ((tanggal_tujuan.month, tanggal_tujuan.day) < (tanggal_lahir.month, tanggal_lahir.day))\n",
    "\n",
    "#Program menampilkan umur dari pengguna\n",
    "print(\"Umur anda pada tanggal 1 Januari 2023 adalah\", umur, \"tahun.\")"
   ]
  },
  {
   "attachments": {},
   "cell_type": "markdown",
   "metadata": {},
   "source": [
    "2."
   ]
  },
  {
   "cell_type": "code",
   "execution_count": null,
   "metadata": {},
   "outputs": [],
   "source": []
  },
  {
   "attachments": {},
   "cell_type": "markdown",
   "metadata": {},
   "source": [
    "3."
   ]
  },
  {
   "cell_type": "code",
   "execution_count": 5,
   "metadata": {},
   "outputs": [
    {
     "name": "stdout",
     "output_type": "stream",
     "text": [
      "Luas prisma segitiga adalah 175.98076211353316\n"
     ]
    }
   ],
   "source": [
    "dictionary_figure = {\n",
    "    \"Persegi\": {\"Sisi\": 22},\n",
    "    \"Persegi Panjang\": {\"Panjang\": 10, \"Lebar\": 5},\n",
    "    \"Segitiga Sama Sisi\": {\"Sisi\": 6, \"Tinggi\": 3**(1/2) * 3},\n",
    "    \"Lingkaran\": {\"Diameter\": 7}\n",
    "}\n",
    "\n",
    "# Nilai yang diperlukan dari dictionary\n",
    "lebar = dictionary_figure[\"Persegi Panjang\"][\"Lebar\"]\n",
    "panjang = dictionary_figure[\"Persegi Panjang\"][\"Panjang\"]\n",
    "sisi = dictionary_figure[\"Segitiga Sama Sisi\"][\"Sisi\"]\n",
    "tinggi = dictionary_figure[\"Segitiga Sama Sisi\"][\"Tinggi\"]\n",
    "\n",
    "# Menghitung luas segitiga\n",
    "luas_segitiga = 1/2 * lebar * tinggi\n",
    "\n",
    "# Menghitung luas prisma segitiga\n",
    "luas_prisma = (2 * luas_segitiga) + (3 * panjang * lebar)\n",
    "\n",
    "# Menampilkan hasil\n",
    "print(\"Luas prisma segitiga adalah\", luas_prisma)"
   ]
  },
  {
   "attachments": {},
   "cell_type": "markdown",
   "metadata": {},
   "source": [
    "## 1."
   ]
  },
  {
   "attachments": {},
   "cell_type": "markdown",
   "metadata": {},
   "source": [
    "buatlah program sederhana untuk menghitung umur pengguna dengan ketentuan sebagai berikut :\n",
    "* Program meminta pengguna memasukan tanggal, bulan, dan tahun lahir\n",
    "* Program menghitung umur pengguna hingga tanggal 1 januari 2023\n",
    "* Program menampilkan umur dari pengguna"
   ]
  },
  {
   "attachments": {},
   "cell_type": "markdown",
   "metadata": {},
   "source": [
    "## 2."
   ]
  },
  {
   "attachments": {},
   "cell_type": "markdown",
   "metadata": {},
   "source": [
    "Pada 2015, wabah flu burung menyerang Indonesia dan beberapa peternak ayam mengalami kerugian karena banyaknya ayam yang mati. Setiap bulan, jumlah ayamnya berkurang menjadi setengah. Setelah dua bulan, jumlah ayam yang tersisa adalah 200 ekor. Hitunglah jumlah ayam sebelumnya yang dimiliki peternak tersebut! (gunakan rumus deret geometri)\n",
    "\n",
    "> *note: SOAL DIATAS DIKERJAKAN SESUAI DENGAN RUMUS BAKU*"
   ]
  },
  {
   "attachments": {},
   "cell_type": "markdown",
   "metadata": {},
   "source": [
    "## 3. "
   ]
  },
  {
   "attachments": {},
   "cell_type": "markdown",
   "metadata": {},
   "source": [
    "* **A** Hitunglah luas Prisma Segitiga dengan ketentuan sebagai berikut:\n",
    "    * Alas dan tutup prisma merupakan segitiga\n",
    "    * Terdapat 3 persegi panjang yang menyinggung alas dan tutup prisma\n",
    "    * Sisi persegi panjang yang menyinggung segitiga adalah sisi lebar\n",
    "```python\n",
    "    dictionary_figure = {\"Persegi\":{\"Sisi\":22},\n",
    "                        \"Persegi Panjang\":{\"Panjang\":10,\"Lebar\":5},\n",
    "                        \"Segitiga Sama Sisi\":{\"Sisi\":6,\"Tinggi\":3**(1/2) * 3},\n",
    "                        \"Lingkaran\":{\"Diameter\":7}}\n",
    "```\n",
    "* **B** Hitunglah luas Tabung dengan ketentuan sebagai berikut:\n",
    "    * Alas dan tutup tabung merupakan lingkaran\n",
    "    * Terdapat 1 persegi yang menyinggung alas dan tutup tabung\n",
    "    * Persegi yang ada mengelilingi lingkaran hingga sisi dari persegi saling bertemu\n",
    "\n",
    "> *note: Pada soal ini kalian hanya boleh menggunakan key-value pair dan index pada list. Tidak diperbolehkan menulis secara langsung dimensi dari figure*"
   ]
  }
 ],
 "metadata": {
  "kernelspec": {
   "display_name": "Python 3",
   "language": "python",
   "name": "python3"
  },
  "language_info": {
   "codemirror_mode": {
    "name": "ipython",
    "version": 3
   },
   "file_extension": ".py",
   "mimetype": "text/x-python",
   "name": "python",
   "nbconvert_exporter": "python",
   "pygments_lexer": "ipython3",
   "version": "3.11.2"
  },
  "orig_nbformat": 4,
  "vscode": {
   "interpreter": {
    "hash": "5addf786bcd861d1ce5006f23111f8cbb206731e5b61b0a5632ba9e0252558a8"
   }
  }
 },
 "nbformat": 4,
 "nbformat_minor": 2
}
