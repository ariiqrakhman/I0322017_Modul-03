{
 "cells": [
  {
   "cell_type": "code",
   "execution_count": 28,
   "metadata": {},
   "outputs": [
    {
     "name": "stdout",
     "output_type": "stream",
     "text": [
      "1\n"
     ]
    }
   ],
   "source": [
    "modulo1 = 10%3\n",
    "print(modulo1)"
   ]
  },
  {
   "cell_type": "code",
   "execution_count": 29,
   "metadata": {},
   "outputs": [
    {
     "name": "stdout",
     "output_type": "stream",
     "text": [
      "hasil dari 3 + 10 = 13\n"
     ]
    }
   ],
   "source": [
    "angka1 = int(input(\"masukkan angka pertama\"))\n",
    "angka2 = int(input(\"masukkan angka kedua\"))\n",
    "operasi = angka1+angka2\n",
    "print(\"hasil dari \"+str(angka1)+\" + \"+str(angka2)+\" = \"+str(operasi))"
   ]
  },
  {
   "cell_type": "code",
   "execution_count": 30,
   "metadata": {},
   "outputs": [
    {
     "name": "stdout",
     "output_type": "stream",
     "text": [
      "9 != 4 = True\n"
     ]
    },
    {
     "data": {
      "text/plain": [
       "<function print(*args, sep=' ', end='\\n', file=None, flush=False)>"
      ]
     },
     "execution_count": 30,
     "metadata": {},
     "output_type": "execute_result"
    }
   ],
   "source": [
    "hasil = a != 4\n",
    "print(a,'!=',4,'=',hasil)\n",
    "\n",
    "hasil = b != 4\n",
    "print "
   ]
  },
  {
   "cell_type": "code",
   "execution_count": 31,
   "metadata": {},
   "outputs": [
    {
     "name": "stdout",
     "output_type": "stream",
     "text": [
      "12\n",
      "10\n",
      "5.0\n",
      "10.0\n"
     ]
    }
   ],
   "source": [
    "#ASSIGNMENT\n",
    "a = 10\n",
    "a += 2\n",
    "print (a)\n",
    "\n",
    "a-=2\n",
    "print (a)\n",
    "\n",
    "a/=2\n",
    "print (a)\n",
    "\n",
    "a*=2\n",
    "print (a)"
   ]
  },
  {
   "cell_type": "code",
   "execution_count": 32,
   "metadata": {},
   "outputs": [
    {
     "name": "stdout",
     "output_type": "stream",
     "text": [
      "data a = False\n",
      "data c = True\n"
     ]
    }
   ],
   "source": [
    "a = False\n",
    "c = not a\n",
    "print ('data a =', a)\n",
    "print ('data c =',c)"
   ]
  },
  {
   "cell_type": "code",
   "execution_count": 33,
   "metadata": {},
   "outputs": [
    {
     "name": "stdout",
     "output_type": "stream",
     "text": [
      "True\n"
     ]
    }
   ],
   "source": [
    "x = 5\n",
    "print (not(x<5))"
   ]
  },
  {
   "cell_type": "code",
   "execution_count": 34,
   "metadata": {},
   "outputs": [
    {
     "name": "stdout",
     "output_type": "stream",
     "text": [
      "False OR False = False\n",
      "False OR True  = True\n",
      "True  OR False = True\n",
      "True  OR True  = True\n"
     ]
    }
   ],
   "source": [
    "a = False\n",
    "b = False\n",
    "c = a or b\n",
    "print(a,'OR',b,'=',c)\n",
    "a = False\n",
    "b = True\n",
    "c = a or b\n",
    "print(a,'OR',b,' =',c)\n",
    "a = True\n",
    "b = False\n",
    "c = a or b\n",
    "print(a,' OR',b,'=',c)\n",
    "a = True\n",
    "b = True\n",
    "c = a or b\n",
    "print(a,' OR',b,' =',c)"
   ]
  },
  {
   "cell_type": "code",
   "execution_count": 35,
   "metadata": {},
   "outputs": [
    {
     "name": "stdout",
     "output_type": "stream",
     "text": [
      "nilai : 9  , binary : 00001001\n",
      "nilai : 5  , binary : 00000101\n",
      "----------------------------- (|)\n",
      "nilai : 13  , binary : 00001101\n"
     ]
    }
   ],
   "source": [
    "a= 9\n",
    "b = 5\n",
    "\n",
    "# bitwise OR (|)\n",
    "c = a | b\n",
    "print('nilai :',a,' , binary :',format(a,'08b'))\n",
    "print('nilai :',b,' , binary :',format(b,'08b'))\n",
    "print('----------------------------- (|)')\n",
    "print('nilai :',c,' , binary :',format(c,'08b'))"
   ]
  },
  {
   "cell_type": "code",
   "execution_count": 36,
   "metadata": {},
   "outputs": [
    {
     "name": "stdout",
     "output_type": "stream",
     "text": [
      "nilai : 9  , binary : 00001001\n",
      "nilai : 5  , binary : 00000101\n",
      "----------------------------- (&)\n",
      "nilai : 1  , binary : 00000001\n"
     ]
    }
   ],
   "source": [
    "# bitwise AND (&)\n",
    "c = a & b\n",
    "print('nilai :',a,' , binary :',format(a,'08b'))\n",
    "print('nilai :',b,' , binary :',format(b,'08b'))\n",
    "print('----------------------------- (&)')\n",
    "print('nilai :',c,' , binary :',format(c,'08b'))"
   ]
  },
  {
   "cell_type": "code",
   "execution_count": 37,
   "metadata": {},
   "outputs": [
    {
     "name": "stdout",
     "output_type": "stream",
     "text": [
      "nilai : 10  , binary : 00001010\n",
      "----------------------------- (~)\n",
      "nilai : -11  , binary : -0001011\n"
     ]
    }
   ],
   "source": [
    "# bitwise NOT (~)\n",
    "d = 10\n",
    "c = ~d\n",
    "print('nilai :',d,' , binary :',format(d,'08b'))\n",
    "print('----------------------------- (~)')\n",
    "print('nilai :',c,' , binary :',format(c,'08b'))"
   ]
  },
  {
   "cell_type": "code",
   "execution_count": 38,
   "metadata": {},
   "outputs": [
    {
     "name": "stdout",
     "output_type": "stream",
     "text": [
      "Huruf 'c' ada di variabel perusahaan? True\n"
     ]
    }
   ],
   "source": [
    "perusahaan = 'McKinsey'\n",
    "empat_besar = ['Arsenal', 'City', 'MU', 'Tottenham']\n",
    "mahasiswa = {\n",
    "  'nama': 'POSI',\n",
    "  'tahun': '2020'\n",
    "}\n",
    "\n",
    "print(\n",
    "  \"Huruf 'c' ada di variabel perusahaan?\",\n",
    "  'c' in perusahaan\n",
    ")"
   ]
  }
 ],
 "metadata": {
  "kernelspec": {
   "display_name": "Python 3",
   "language": "python",
   "name": "python3"
  },
  "language_info": {
   "codemirror_mode": {
    "name": "ipython",
    "version": 3
   },
   "file_extension": ".py",
   "mimetype": "text/x-python",
   "name": "python",
   "nbconvert_exporter": "python",
   "pygments_lexer": "ipython3",
   "version": "3.11.2"
  },
  "orig_nbformat": 4
 },
 "nbformat": 4,
 "nbformat_minor": 2
}
